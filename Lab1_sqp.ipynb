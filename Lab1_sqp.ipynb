version https://git-lfs.github.com/spec/v1
oid sha256:ebc10fd2d5c17b367623f1b2f370f177670a81e4c9156b465340e4a6ce9d48d9
size 26778
