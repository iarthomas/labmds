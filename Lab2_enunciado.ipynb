version https://git-lfs.github.com/spec/v1
oid sha256:97f0ab18800027143198041fbaa7537fdd4f74b52baf450643158646c57bb55b
size 1699654
